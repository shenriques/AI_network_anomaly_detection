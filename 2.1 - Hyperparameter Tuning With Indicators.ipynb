{
 "cells": [
  {
   "cell_type": "code",
   "execution_count": 1,
   "id": "88b71ec7",
   "metadata": {},
   "outputs": [],
   "source": [
    "import pandas as pd\n",
    "import numpy as np\n",
    "pd.set_option('display.max_columns', None)\n",
    "pd.set_option('display.max_rows', None)\n",
    "from sklearn.preprocessing import LabelEncoder\n",
    "\n",
    "from sklearn.svm import SVC\n",
    "from sklearn.tree import DecisionTreeClassifier\n",
    "from sklearn.ensemble import RandomForestClassifier\n",
    "from sklearn.neighbors import KNeighborsClassifier\n",
    "from sklearn.svm import OneClassSVM\n",
    "\n",
    "import matplotlib.pyplot as plt\n",
    "\n",
    "from sklearn.preprocessing import StandardScaler\n",
    "from sklearn.metrics import accuracy_score, precision_score, classification_report, confusion_matrix, make_scorer, mean_squared_error\n",
    "from sklearn.model_selection import train_test_split, GridSearchCV, KFold, cross_val_score"
   ]
  },
  {
   "cell_type": "code",
   "execution_count": 2,
   "id": "5297c3c3",
   "metadata": {},
   "outputs": [],
   "source": [
    "# transformed features and new features\n",
    "network_3 = pd.read_csv('../data/with_indicators_training.csv')\n",
    "\n",
    "# split the data into training and validation\n",
    "X_train, X_val, y_train, y_val = train_test_split(network_3.drop('class', axis=1), network_3['class'], test_size=0.2, random_state=42)\n",
    "\n",
    "# scale\n",
    "scaler = StandardScaler()\n",
    "X_train_scaled = scaler.fit_transform(X_train)\n",
    "X_val_scaled = scaler.transform(X_val)"
   ]
  },
  {
   "cell_type": "code",
   "execution_count": 4,
   "id": "e49d296f",
   "metadata": {},
   "outputs": [
    {
     "name": "stdout",
     "output_type": "stream",
     "text": [
      "Best hyperparameters: {'n_neighbors': 3, 'weights': 'distance'}\n",
      "Best estimator: KNeighborsClassifier(n_neighbors=3, weights='distance')\n",
      "              precision    recall  f1-score   support\n",
      "\n",
      "           0       1.00      0.99      0.99       459\n",
      "           1       0.99      0.99      0.99       396\n",
      "\n",
      "    accuracy                           0.99       855\n",
      "   macro avg       0.99      0.99      0.99       855\n",
      "weighted avg       0.99      0.99      0.99       855\n",
      "\n"
     ]
    }
   ],
   "source": [
    "# 1 - 30\n",
    "knn_param_grid = {\n",
    "    'n_neighbors': np.arange(1, 31),\n",
    "    'weights': ['uniform', 'distance']\n",
    "}\n",
    "\n",
    "knn = KNeighborsClassifier()\n",
    "\n",
    "knn_grid_search = GridSearchCV(knn, knn_param_grid, cv=5)\n",
    "knn_grid_search.fit(X_train_scaled, y_train)\n",
    "\n",
    "print(f\"Best hyperparameters: {knn_grid_search.best_params_}\")\n",
    "print(f\"Best estimator: {knn_grid_search.best_estimator_}\")\n",
    "\n",
    "knn_grid_predictions = knn_grid_search.predict(X_val_scaled)\n",
    "print(classification_report(y_val, knn_grid_predictions))"
   ]
  },
  {
   "cell_type": "code",
   "execution_count": 5,
   "id": "f467dd7e",
   "metadata": {},
   "outputs": [
    {
     "data": {
      "image/png": "[encoded data removed]",
      "text/plain": [
       "<Figure size 640x480 with 1 Axes>"
      ]
     },
     "metadata": {},
     "output_type": "display_data"
    }
   ],
   "source": [
    "# graph the numbers || not great visual,numbers too far apart\n",
    "error_scores = []\n",
    "accuracy_scores = []\n",
    "precision_scores = []\n",
    "\n",
    "#1 - 30\n",
    "for k in range(1, 31):\n",
    "    knn_model = KNeighborsClassifier(n_neighbors=k, weights=knn_grid_search.best_params_['weights'])\n",
    "    knn_model.fit(X_train_scaled, y_train)\n",
    "    knn_predicted_labels = knn_model.predict(X_val_scaled)\n",
    "    \n",
    "    error = 1 - accuracy_score(y_val, knn_predicted_labels)\n",
    "    error_scores.append(error)\n",
    "    \n",
    "    accuracy = accuracy_score(y_val, knn_predicted_labels)\n",
    "    accuracy_scores.append(accuracy)\n",
    "    \n",
    "    precision = precision_score(y_val, knn_predicted_labels)\n",
    "    precision_scores.append(precision)\n",
    "\n",
    "plt.plot(range(1, 31), error_scores, color='red', label='Error rate')\n",
    "plt.plot(range(1, 31), accuracy_scores, color='green', label='Accuracy')\n",
    "plt.plot(range(1, 31), precision_scores, color='blue', label='Precision')\n",
    "\n",
    "plt.xlabel('k')\n",
    "plt.ylabel('scores')\n",
    "plt.title('error rate')\n",
    "plt.legend()\n",
    "plt.show()"
   ]
  },
  {
   "cell_type": "code",
   "execution_count": 7,
   "id": "c493a377",
   "metadata": {},
   "outputs": [
    {
     "name": "stdout",
     "output_type": "stream",
     "text": [
      "Best parameters: {'C': 10, 'gamma': 0.1, 'kernel': 'rbf'}\n",
      "Best estimator: SVC(C=10, gamma=0.1)\n",
      "              precision    recall  f1-score   support\n",
      "\n",
      "           0       1.00      0.99      0.99       459\n",
      "           1       0.98      0.99      0.99       396\n",
      "\n",
      "    accuracy                           0.99       855\n",
      "   macro avg       0.99      0.99      0.99       855\n",
      "weighted avg       0.99      0.99      0.99       855\n",
      "\n"
     ]
    }
   ],
   "source": [
    "svm_param_grid = {\n",
    "    'C': [0.1, 1, 10, 100, 1000],\n",
    "    'kernel': ['linear', 'poly', 'rbf', 'sigmoid'],\n",
    "    'gamma': ['scale', 'auto'] + [0.001, 0.01, 0.1, 1, 10, 100]\n",
    "}\n",
    "\n",
    "svm = SVC()\n",
    "\n",
    "svm_grid_search = GridSearchCV(svm, param_grid=svm_param_grid, cv=5)\n",
    "svm_grid_search.fit(X_train_scaled, y_train)\n",
    "\n",
    "print(f\"Best parameters: {svm_grid_search.best_params_}\")\n",
    "print(f\"Best estimator: {svm_grid_search.best_estimator_}\")\n",
    "\n",
    "svm_grid_predictions = svm_grid_search.predict(X_val_scaled)\n",
    "\n",
    "print(classification_report(y_val, svm_grid_predictions))"
   ]
  },
  {
   "cell_type": "code",
   "execution_count": 8,
   "id": "cf11aff1",
   "metadata": {},
   "outputs": [
    {
     "name": "stdout",
     "output_type": "stream",
     "text": [
      "Best parameters: {'criterion': 'gini', 'max_depth': 9, 'min_samples_leaf': 1, 'min_samples_split': 10}\n",
      "Best estimator: DecisionTreeClassifier(max_depth=9, min_samples_split=10, random_state=42)\n",
      "              precision    recall  f1-score   support\n",
      "\n",
      "           0       1.00      0.99      0.99       459\n",
      "           1       0.99      0.99      0.99       396\n",
      "\n",
      "    accuracy                           0.99       855\n",
      "   macro avg       0.99      0.99      0.99       855\n",
      "weighted avg       0.99      0.99      0.99       855\n",
      "\n"
     ]
    }
   ],
   "source": [
    "dt_param_grid = {\n",
    "    'criterion': ['gini', 'entropy'],\n",
    "    'max_depth': [3, 5, 7, 9, None],\n",
    "    'min_samples_split': [2, 5, 10],\n",
    "    'min_samples_leaf': [1, 2, 4]\n",
    "}\n",
    "\n",
    "dt = DecisionTreeClassifier(random_state=42)\n",
    "\n",
    "dt_grid_search = GridSearchCV(dt, param_grid=dt_param_grid, cv=5)\n",
    "dt_grid_search.fit(X_train_scaled, y_train)\n",
    "\n",
    "print(f\"Best parameters: {dt_grid_search.best_params_}\")\n",
    "print(f\"Best estimator: {dt_grid_search.best_estimator_}\")\n",
    "\n",
    "dt_grid_predictions = dt_grid_search.predict(X_val_scaled)\n",
    "\n",
    "print(classification_report(y_val, dt_grid_predictions))"
   ]
  },
  {
   "cell_type": "code",
   "execution_count": 9,
   "id": "b7db62a8",
   "metadata": {},
   "outputs": [
    {
     "name": "stdout",
     "output_type": "stream",
     "text": [
      "Best parameters: {'max_depth': 15, 'max_features': 'sqrt', 'min_samples_leaf': 1, 'min_samples_split': 2, 'n_estimators': 300}\n",
      "Best estimator: RandomForestClassifier(max_depth=15, n_estimators=300, random_state=42)\n",
      "              precision    recall  f1-score   support\n",
      "\n",
      "           0       0.99      1.00      0.99       459\n",
      "           1       0.99      0.99      0.99       396\n",
      "\n",
      "    accuracy                           0.99       855\n",
      "   macro avg       0.99      0.99      0.99       855\n",
      "weighted avg       0.99      0.99      0.99       855\n",
      "\n"
     ]
    }
   ],
   "source": [
    "rf_param_grid = {\n",
    "    'n_estimators': [50, 100, 200, 300],\n",
    "    'max_depth': [5, 10, 15, 20, None],\n",
    "    'min_samples_split': [2, 5, 10],\n",
    "    'min_samples_leaf': [1, 2, 4],\n",
    "    'max_features': ['sqrt', 'log2', None]\n",
    "}\n",
    "\n",
    "rf = RandomForestClassifier(random_state=42)\n",
    "\n",
    "rf_grid_search = GridSearchCV(rf, param_grid=rf_param_grid, cv=5)\n",
    "rf_grid_search.fit(X_train_scaled, y_train)\n",
    "\n",
    "print(f\"Best parameters: {rf_grid_search.best_params_}\")\n",
    "print(f\"Best estimator: {rf_grid_search.best_estimator_}\")\n",
    "\n",
    "rf_grid_predictions = rf_grid_search.predict(X_val_scaled)\n",
    "\n",
    "print(classification_report(y_val, rf_grid_predictions))"
   ]
  }
 ],
 "metadata": {
  "kernelspec": {
   "display_name": "Python 3 (ipykernel)",
   "language": "python",
   "name": "python3"
  },
  "language_info": {
   "codemirror_mode": {
    "name": "ipython",
    "version": 3
   },
   "file_extension": ".py",
   "mimetype": "text/x-python",
   "name": "python",
   "nbconvert_exporter": "python",
   "pygments_lexer": "ipython3",
   "version": "3.10.9"
  }
 },
 "nbformat": 4,
 "nbformat_minor": 5
}
