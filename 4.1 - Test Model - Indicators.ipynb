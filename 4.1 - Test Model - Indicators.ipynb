{
 "cells": [
  {
   "cell_type": "code",
   "execution_count": 6,
   "id": "ff9fc4b3",
   "metadata": {},
   "outputs": [],
   "source": [
    "import pandas as pd\n",
    "import numpy as np\n",
    "\n",
    "pd.set_option('display.max_columns', None)\n",
    "pd.set_option('display.max_rows', None)\n",
    "from sklearn.preprocessing import LabelEncoder\n",
    "\n",
    "from sklearn.svm import SVC\n",
    "from sklearn.ensemble import RandomForestClassifier\n",
    "from sklearn.neighbors import KNeighborsClassifier\n",
    "from sklearn.tree import DecisionTreeClassifier\n",
    "from sklearn.svm import OneClassSVM\n",
    "\n",
    "from sklearn.preprocessing import StandardScaler\n",
    "from sklearn.metrics import accuracy_score, precision_score, f1_score, roc_auc_score\n",
    "from sklearn.model_selection import train_test_split, GridSearchCV, KFold, cross_val_score"
   ]
  },
  {
   "cell_type": "code",
   "execution_count": 7,
   "id": "0823616e",
   "metadata": {},
   "outputs": [],
   "source": [
    "scaler = StandardScaler()"
   ]
  },
  {
   "cell_type": "code",
   "execution_count": 8,
   "id": "8197f4be",
   "metadata": {
    "scrolled": true
   },
   "outputs": [],
   "source": [
    "testing_data = pd.read_csv('data/with_indicators_testing.csv')\n",
    "\n",
    "testing_data_features = testing_data.drop('class', axis=1)\n",
    "testing_data_labels = testing_data['class']\n",
    "\n",
    "testing_data_features = scaler.fit_transform(testing_data_features)"
   ]
  },
  {
   "cell_type": "code",
   "execution_count": 9,
   "id": "97787c1a",
   "metadata": {},
   "outputs": [],
   "source": [
    "training = pd.read_csv('data/with_indicators_training.csv')\n",
    "training_features = training.drop('class', axis=1)\n",
    "training_labels = training['class']\n",
    "\n",
    "# scale the features \n",
    "training_features = scaler.fit_transform(training_features)"
   ]
  },
  {
   "cell_type": "code",
   "execution_count": 12,
   "id": "4470eeab",
   "metadata": {},
   "outputs": [
    {
     "name": "stdout",
     "output_type": "stream",
     "text": [
      "Accuracy: 0.993\n",
      "Precision: 0.9930222416048844\n",
      "F1 Score: 0.9923730660274569\n",
      "AUC Score: 0.9929037894563223\n",
      "CPU times: total: 203 ms\n",
      "Wall time: 199 ms\n"
     ]
    }
   ],
   "source": [
    "%%time\n",
    "\n",
    "# uses hyperparams from tuning notebook\n",
    "svm_model = SVC(C=10, gamma=0.1, kernel='rbf')\n",
    "\n",
    "svm_model.fit(training_features, training_labels)\n",
    "\n",
    "svm_predicted_labels = svm_model.predict(testing_data_features)\n",
    " \n",
    "accuracy = accuracy_score(testing_data_labels, svm_predicted_labels)\n",
    "precision = precision_score(testing_data_labels, svm_predicted_labels)\n",
    "f1 = f1_score(testing_data_labels, svm_predicted_labels)\n",
    "auc = roc_auc_score(testing_data_labels, svm_predicted_labels)\n",
    "\n",
    "print(f\"Accuracy: {accuracy}\")\n",
    "print(f\"Precision: {precision}\")\n",
    "print(f\"F1 Score: {f1}\")\n",
    "print(f\"AUC Score: {auc}\")"
   ]
  },
  {
   "cell_type": "code",
   "execution_count": 11,
   "id": "1e7693fb",
   "metadata": {},
   "outputs": [
    {
     "name": "stdout",
     "output_type": "stream",
     "text": [
      "Accuracy: 0.9924\n",
      "Precision: 0.9912967798085291\n",
      "F1 Score: 0.9917283413147584\n",
      "AUC Score: 0.9923819145207512\n",
      "CPU times: total: 1.95 s\n",
      "Wall time: 121 ms\n"
     ]
    }
   ],
   "source": [
    "%%time\n",
    "\n",
    "knn_model = KNeighborsClassifier(n_neighbors=3, weights='distance')\n",
    "\n",
    "knn_model.fit(training_features, training_labels)\n",
    "\n",
    "knn_predicted_labels = knn_model.predict(testing_data_features)\n",
    "\n",
    "knn_accuracy = accuracy_score(testing_data_labels, knn_predicted_labels)\n",
    "knn_precision = precision_score(testing_data_labels, knn_predicted_labels)\n",
    "knn_f1 = f1_score(testing_data_labels, knn_predicted_labels)\n",
    "knn_auc = roc_auc_score(testing_data_labels, knn_predicted_labels)\n",
    "\n",
    "print(f\"Accuracy: {knn_accuracy}\")\n",
    "print(f\"Precision: {knn_precision}\")\n",
    "print(f\"F1 Score: {knn_f1}\")\n",
    "print(f\"AUC Score: {knn_auc}\")"
   ]
  },
  {
   "cell_type": "code",
   "execution_count": 13,
   "id": "e9316efe",
   "metadata": {},
   "outputs": [
    {
     "name": "stdout",
     "output_type": "stream",
     "text": [
      "Accuracy: 0.981\n",
      "Precision: 0.968098681412165\n",
      "F1 Score: 0.9795567032494082\n",
      "AUC Score: 0.9817762561078697\n",
      "CPU times: total: 15.6 ms\n",
      "Wall time: 18.4 ms\n"
     ]
    }
   ],
   "source": [
    "%%time\n",
    "\n",
    "dt_model = DecisionTreeClassifier(random_state=42,\n",
    "                            criterion='gini',\n",
    "                            max_depth=9,\n",
    "                            min_samples_split=10,\n",
    "                            min_samples_leaf=1)\n",
    "\n",
    "dt_model.fit(training_features, training_labels)\n",
    "\n",
    "dt_predicted_labels = dt_model.predict(testing_data_features)\n",
    "\n",
    "dt_accuracy = accuracy_score(testing_data_labels, dt_predicted_labels)\n",
    "dt_precision = precision_score(testing_data_labels, dt_predicted_labels)\n",
    "dt_f1 = f1_score(testing_data_labels, dt_predicted_labels)\n",
    "dt_auc = roc_auc_score(testing_data_labels, dt_predicted_labels)\n",
    "\n",
    "print(f\"Accuracy: {dt_accuracy}\")\n",
    "print(f\"Precision: {dt_precision}\")\n",
    "print(f\"F1 Score: {dt_f1}\")\n",
    "print(f\"AUC Score: {dt_auc}\")"
   ]
  },
  {
   "cell_type": "code",
   "execution_count": 14,
   "id": "3ab2d458",
   "metadata": {},
   "outputs": [
    {
     "name": "stdout",
     "output_type": "stream",
     "text": [
      "Accuracy: 0.9916\n",
      "Precision: 0.9969135802469136\n",
      "F1 Score: 0.99079754601227\n",
      "AUC Score: 0.9910836700822631\n",
      "CPU times: total: 938 ms\n",
      "Wall time: 938 ms\n"
     ]
    }
   ],
   "source": [
    "%%time\n",
    "\n",
    "rf_model = RandomForestClassifier(random_state=42,\n",
    "                                  n_estimators= 300,\n",
    "                                  max_depth=15,\n",
    "                                  min_samples_split=2,\n",
    "                                  min_samples_leaf=1,\n",
    "                                  max_features='sqrt')\n",
    "\n",
    "rf_model.fit(training_features, training_labels)\n",
    "\n",
    "rf_predicted_labels = rf_model.predict(testing_data_features)\n",
    "\n",
    "rf_accuracy = accuracy_score(testing_data_labels, rf_predicted_labels)\n",
    "rf_precision = precision_score(testing_data_labels, rf_predicted_labels)\n",
    "rf_f1 = f1_score(testing_data_labels, rf_predicted_labels)\n",
    "rf_auc = roc_auc_score(testing_data_labels, rf_predicted_labels)\n",
    "\n",
    "print(f\"Accuracy: {rf_accuracy}\")\n",
    "print(f\"Precision: {rf_precision}\")\n",
    "print(f\"F1 Score: {rf_f1}\")\n",
    "print(f\"AUC Score: {rf_auc}\")"
   ]
  },
  {
   "cell_type": "code",
   "execution_count": null,
   "id": "ef2440e6",
   "metadata": {},
   "outputs": [],
   "source": []
  }
 ],
 "metadata": {
  "kernelspec": {
   "display_name": "Python 3 (ipykernel)",
   "language": "python",
   "name": "python3"
  },
  "language_info": {
   "codemirror_mode": {
    "name": "ipython",
    "version": 3
   },
   "file_extension": ".py",
   "mimetype": "text/x-python",
   "name": "python",
   "nbconvert_exporter": "python",
   "pygments_lexer": "ipython3",
   "version": "3.10.9"
  }
 },
 "nbformat": 4,
 "nbformat_minor": 5
}
